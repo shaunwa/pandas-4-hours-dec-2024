{
 "cells": [
  {
   "cell_type": "code",
   "execution_count": 15,
   "id": "2da2fa81-6dea-483e-8e9b-b4aa98c37ab8",
   "metadata": {},
   "outputs": [
    {
     "data": {
      "text/plain": [
       "array([  0.        ,   1.75438596,   3.50877193,   5.26315789,\n",
       "         7.01754386,   8.77192982,  10.52631579,  12.28070175,\n",
       "        14.03508772,  15.78947368,  17.54385965,  19.29824561,\n",
       "        21.05263158,  22.80701754,  24.56140351,  26.31578947,\n",
       "        28.07017544,  29.8245614 ,  31.57894737,  33.33333333,\n",
       "        35.0877193 ,  36.84210526,  38.59649123,  40.35087719,\n",
       "        42.10526316,  43.85964912,  45.61403509,  47.36842105,\n",
       "        49.12280702,  50.87719298,  52.63157895,  54.38596491,\n",
       "        56.14035088,  57.89473684,  59.64912281,  61.40350877,\n",
       "        63.15789474,  64.9122807 ,  66.66666667,  68.42105263,\n",
       "        70.1754386 ,  71.92982456,  73.68421053,  75.43859649,\n",
       "        77.19298246,  78.94736842,  80.70175439,  82.45614035,\n",
       "        84.21052632,  85.96491228,  87.71929825,  89.47368421,\n",
       "        91.22807018,  92.98245614,  94.73684211,  96.49122807,\n",
       "        98.24561404, 100.        ])"
      ]
     },
     "execution_count": 15,
     "metadata": {},
     "output_type": "execute_result"
    }
   ],
   "source": [
    "import numpy as np\n",
    "\n",
    "arr = np.array([1, 2, 3, 4, 5, 6, 7, 8, 9, 10])\n",
    "\n",
    "arr * 2\n",
    "\n",
    "np.arange(1, 10, 2)\n",
    "np.linspace(0, 100, num=58)"
   ]
  },
  {
   "cell_type": "code",
   "execution_count": null,
   "id": "06d63585-ebf1-4b62-b238-e5d6fd8d60ac",
   "metadata": {},
   "outputs": [],
   "source": []
  }
 ],
 "metadata": {
  "kernelspec": {
   "display_name": "Python 3 (ipykernel)",
   "language": "python",
   "name": "python3"
  },
  "language_info": {
   "codemirror_mode": {
    "name": "ipython",
    "version": 3
   },
   "file_extension": ".py",
   "mimetype": "text/x-python",
   "name": "python",
   "nbconvert_exporter": "python",
   "pygments_lexer": "ipython3",
   "version": "3.12.2"
  }
 },
 "nbformat": 4,
 "nbformat_minor": 5
}
