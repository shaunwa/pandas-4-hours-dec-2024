{
 "cells": [
  {
   "cell_type": "code",
   "execution_count": 1,
   "id": "ccf9a060-c87f-4fe1-96a9-6113e4d21d33",
   "metadata": {},
   "outputs": [
    {
     "data": {
      "text/plain": [
       "a    400\n",
       "b    400\n",
       "c      3\n",
       "d      4\n",
       "e    400\n",
       "dtype: int64"
      ]
     },
     "execution_count": 1,
     "metadata": {},
     "output_type": "execute_result"
    }
   ],
   "source": [
    "import pandas as pd\n",
    "import numpy as np\n",
    "\n",
    "values = np.array([1, 2, 3, 4, 5])\n",
    "labels_1 = np.array(['a', 'b', 'c', 'd', 'e'])\n",
    "labels_2 = np.array(['c', 'b', 'd', 'a', 'e'])\n",
    "labels_3 = np.array(['123', '234', '345', '456', '567'])\n",
    "\n",
    "s1 = pd.Series(values, index=labels_1)\n",
    "s2 = pd.Series(values, index=labels_2)\n",
    "s3 = pd.Series(values, index=labels_3)\n",
    "\n",
    "s1[['a', 'b', 'e']] = 400\n",
    "s1"
   ]
  },
  {
   "cell_type": "code",
   "execution_count": 2,
   "id": "ed726d82-844d-4209-a59f-5a114c8c8638",
   "metadata": {},
   "outputs": [
    {
     "data": {
      "text/plain": [
       "array([400, 400,   3,   4, 400])"
      ]
     },
     "execution_count": 2,
     "metadata": {},
     "output_type": "execute_result"
    }
   ],
   "source": [
    "values"
   ]
  },
  {
   "cell_type": "code",
   "execution_count": 3,
   "id": "3293acdd-f39a-4a19-977a-2d4956fee297",
   "metadata": {},
   "outputs": [
    {
     "data": {
      "text/html": [
       "<div>\n",
       "<style scoped>\n",
       "    .dataframe tbody tr th:only-of-type {\n",
       "        vertical-align: middle;\n",
       "    }\n",
       "\n",
       "    .dataframe tbody tr th {\n",
       "        vertical-align: top;\n",
       "    }\n",
       "\n",
       "    .dataframe thead th {\n",
       "        text-align: right;\n",
       "    }\n",
       "</style>\n",
       "<table border=\"1\" class=\"dataframe\">\n",
       "  <thead>\n",
       "    <tr style=\"text-align: right;\">\n",
       "      <th></th>\n",
       "      <th>a</th>\n",
       "      <th>b</th>\n",
       "      <th>c</th>\n",
       "      <th>d</th>\n",
       "      <th>e</th>\n",
       "      <th>123</th>\n",
       "      <th>234</th>\n",
       "      <th>345</th>\n",
       "      <th>456</th>\n",
       "      <th>567</th>\n",
       "    </tr>\n",
       "  </thead>\n",
       "  <tbody>\n",
       "    <tr>\n",
       "      <th>0</th>\n",
       "      <td>400.0</td>\n",
       "      <td>400.0</td>\n",
       "      <td>3.0</td>\n",
       "      <td>4.0</td>\n",
       "      <td>400.0</td>\n",
       "      <td>NaN</td>\n",
       "      <td>NaN</td>\n",
       "      <td>NaN</td>\n",
       "      <td>NaN</td>\n",
       "      <td>NaN</td>\n",
       "    </tr>\n",
       "    <tr>\n",
       "      <th>1</th>\n",
       "      <td>4.0</td>\n",
       "      <td>400.0</td>\n",
       "      <td>400.0</td>\n",
       "      <td>3.0</td>\n",
       "      <td>400.0</td>\n",
       "      <td>NaN</td>\n",
       "      <td>NaN</td>\n",
       "      <td>NaN</td>\n",
       "      <td>NaN</td>\n",
       "      <td>NaN</td>\n",
       "    </tr>\n",
       "    <tr>\n",
       "      <th>2</th>\n",
       "      <td>NaN</td>\n",
       "      <td>NaN</td>\n",
       "      <td>NaN</td>\n",
       "      <td>NaN</td>\n",
       "      <td>NaN</td>\n",
       "      <td>400.0</td>\n",
       "      <td>400.0</td>\n",
       "      <td>3.0</td>\n",
       "      <td>4.0</td>\n",
       "      <td>400.0</td>\n",
       "    </tr>\n",
       "  </tbody>\n",
       "</table>\n",
       "</div>"
      ],
      "text/plain": [
       "       a      b      c    d      e    123    234  345  456    567\n",
       "0  400.0  400.0    3.0  4.0  400.0    NaN    NaN  NaN  NaN    NaN\n",
       "1    4.0  400.0  400.0  3.0  400.0    NaN    NaN  NaN  NaN    NaN\n",
       "2    NaN    NaN    NaN  NaN    NaN  400.0  400.0  3.0  4.0  400.0"
      ]
     },
     "execution_count": 3,
     "metadata": {},
     "output_type": "execute_result"
    }
   ],
   "source": [
    "data = [\n",
    "    {'a': 1, 'b': 2, 'c': 3},\n",
    "    {'a': 100, 'b': 200, 'd': 400},\n",
    "    {'b': 10, 'c': 20, 'e': 50},\n",
    "]\n",
    "\n",
    "s1 = pd.Series(values, index=labels_1)\n",
    "s2 = pd.Series(values, index=labels_2)\n",
    "s3 = pd.Series(values, index=labels_3)\n",
    "\n",
    "df = pd.DataFrame([s1, s2, s3])\n",
    "df"
   ]
  },
  {
   "cell_type": "code",
   "execution_count": 4,
   "id": "6ff961d6-ceab-4931-8cbd-4ebe93b874ac",
   "metadata": {},
   "outputs": [
    {
     "data": {
      "text/plain": [
       "2024-12-01    33.586971\n",
       "2024-12-02    17.731405\n",
       "2024-12-03    34.436324\n",
       "2024-12-04    15.431814\n",
       "2024-12-05    33.293965\n",
       "2024-12-06    18.253603\n",
       "2024-12-07    17.435403\n",
       "2024-12-08    17.718011\n",
       "2024-12-09    28.380136\n",
       "2024-12-10    13.733024\n",
       "dtype: float64"
      ]
     },
     "execution_count": 4,
     "metadata": {},
     "output_type": "execute_result"
    }
   ],
   "source": [
    "temperatures_f = np.random.uniform(low=10, high=35, size=10)\n",
    "windchill_f = np.random.uniform(low=0, high=20, size=10)\n",
    "\n",
    "dates = np.arange('2024-12-01', '2024-12-11', dtype='datetime64[D]')\n",
    "\n",
    "temps_f = pd.Series(temperatures_f, index=dates)\n",
    "wind_f = pd.Series(windchill_f, index=dates)\n",
    "temps_f"
   ]
  },
  {
   "cell_type": "code",
   "execution_count": 5,
   "id": "95a69155-3df2-4943-9cca-9e55c21d090a",
   "metadata": {},
   "outputs": [
    {
     "data": {
      "text/plain": [
       "2024-12-01     3.112458\n",
       "2024-12-02    19.965609\n",
       "2024-12-03     2.264087\n",
       "2024-12-04     5.347498\n",
       "2024-12-05     6.129853\n",
       "2024-12-06     8.105881\n",
       "2024-12-07     5.737945\n",
       "2024-12-08     7.872363\n",
       "2024-12-09     9.854175\n",
       "2024-12-10    13.746291\n",
       "dtype: float64"
      ]
     },
     "execution_count": 5,
     "metadata": {},
     "output_type": "execute_result"
    }
   ],
   "source": [
    "wind_f"
   ]
  },
  {
   "cell_type": "code",
   "execution_count": 6,
   "id": "70dcb45b-1512-4b51-b435-54a508289a26",
   "metadata": {},
   "outputs": [
    {
     "data": {
      "text/plain": [
       "2024-12-01     3.112458\n",
       "2024-12-02    19.965609\n",
       "2024-12-03     2.264087\n",
       "dtype: float64"
      ]
     },
     "execution_count": 6,
     "metadata": {},
     "output_type": "execute_result"
    }
   ],
   "source": [
    "wind_f[[True, True, True, False, False, False, False, False, False, False]]"
   ]
  },
  {
   "cell_type": "code",
   "execution_count": 7,
   "id": "2cda44ed-260f-41e5-b6a5-14a7f0aa85c0",
   "metadata": {},
   "outputs": [
    {
     "data": {
      "text/plain": [
       "2024-12-01    3.112458\n",
       "2024-12-03    2.264087\n",
       "2024-12-05    6.129853\n",
       "2024-12-09    9.854175\n",
       "dtype: float64"
      ]
     },
     "execution_count": 7,
     "metadata": {},
     "output_type": "execute_result"
    }
   ],
   "source": [
    "wind_f[temps_f > 20]"
   ]
  },
  {
   "cell_type": "code",
   "execution_count": 8,
   "id": "016b57ef-d42e-443d-a8db-b431f2127ce8",
   "metadata": {},
   "outputs": [
    {
     "data": {
      "text/plain": [
       "234     Bob\n",
       "456    Jill\n",
       "dtype: object"
      ]
     },
     "execution_count": 8,
     "metadata": {},
     "output_type": "execute_result"
    }
   ],
   "source": [
    "names = np.array(['Shaun', 'Bob', 'Jim', 'Jill', 'Betty'])\n",
    "ids = np.array(['123', '234', '345', '456', '567'])\n",
    "\n",
    "def get_first_initial(x):\n",
    "    return x[0]\n",
    "\n",
    "employees = pd.Series(names, index=ids)\n",
    "employees.iloc[np.arange(1, len(employees), 2)]"
   ]
  },
  {
   "cell_type": "code",
   "execution_count": 9,
   "id": "4253eda5-e59c-4c88-aa2b-80e6a7ad6135",
   "metadata": {},
   "outputs": [
    {
     "data": {
      "text/html": [
       "<div>\n",
       "<style scoped>\n",
       "    .dataframe tbody tr th:only-of-type {\n",
       "        vertical-align: middle;\n",
       "    }\n",
       "\n",
       "    .dataframe tbody tr th {\n",
       "        vertical-align: top;\n",
       "    }\n",
       "\n",
       "    .dataframe thead th {\n",
       "        text-align: right;\n",
       "    }\n",
       "</style>\n",
       "<table border=\"1\" class=\"dataframe\">\n",
       "  <thead>\n",
       "    <tr style=\"text-align: right;\">\n",
       "      <th></th>\n",
       "      <th>VIN (1-10)</th>\n",
       "      <th>County</th>\n",
       "      <th>City</th>\n",
       "      <th>State</th>\n",
       "      <th>Postal Code</th>\n",
       "      <th>Model Year</th>\n",
       "      <th>Make</th>\n",
       "      <th>Model</th>\n",
       "      <th>Electric Vehicle Type</th>\n",
       "      <th>Clean Alternative Fuel Vehicle (CAFV) Eligibility</th>\n",
       "      <th>Electric Range</th>\n",
       "      <th>Base MSRP</th>\n",
       "      <th>Legislative District</th>\n",
       "      <th>DOL Vehicle ID</th>\n",
       "      <th>Vehicle Location</th>\n",
       "      <th>Electric Utility</th>\n",
       "      <th>2020 Census Tract</th>\n",
       "    </tr>\n",
       "  </thead>\n",
       "  <tbody>\n",
       "    <tr>\n",
       "      <th>216767</th>\n",
       "      <td>1G1RB6E44D</td>\n",
       "      <td>Douglas</td>\n",
       "      <td>East Wenatchee</td>\n",
       "      <td>WA</td>\n",
       "      <td>98802.0</td>\n",
       "      <td>2013</td>\n",
       "      <td>CHEVROLET</td>\n",
       "      <td>VOLT</td>\n",
       "      <td>Plug-in Hybrid Electric Vehicle (PHEV)</td>\n",
       "      <td>Clean Alternative Fuel Vehicle Eligible</td>\n",
       "      <td>38.0</td>\n",
       "      <td>0.0</td>\n",
       "      <td>12.0</td>\n",
       "      <td>122822822</td>\n",
       "      <td>POINT (-120.29473 47.41515)</td>\n",
       "      <td>PUD NO 1 OF DOUGLAS COUNTY</td>\n",
       "      <td>5.301795e+10</td>\n",
       "    </tr>\n",
       "    <tr>\n",
       "      <th>216768</th>\n",
       "      <td>KNDCS3LF9R</td>\n",
       "      <td>Whatcom</td>\n",
       "      <td>Bellingham</td>\n",
       "      <td>WA</td>\n",
       "      <td>98229.0</td>\n",
       "      <td>2024</td>\n",
       "      <td>KIA</td>\n",
       "      <td>NIRO</td>\n",
       "      <td>Plug-in Hybrid Electric Vehicle (PHEV)</td>\n",
       "      <td>Clean Alternative Fuel Vehicle Eligible</td>\n",
       "      <td>33.0</td>\n",
       "      <td>0.0</td>\n",
       "      <td>40.0</td>\n",
       "      <td>267143887</td>\n",
       "      <td>POINT (-122.45486 48.7449)</td>\n",
       "      <td>PUGET SOUND ENERGY INC||PUD NO 1 OF WHATCOM CO...</td>\n",
       "      <td>5.307300e+10</td>\n",
       "    </tr>\n",
       "    <tr>\n",
       "      <th>216769</th>\n",
       "      <td>7SAYGAEE9R</td>\n",
       "      <td>King</td>\n",
       "      <td>Redmond</td>\n",
       "      <td>WA</td>\n",
       "      <td>98052.0</td>\n",
       "      <td>2024</td>\n",
       "      <td>TESLA</td>\n",
       "      <td>MODEL Y</td>\n",
       "      <td>Battery Electric Vehicle (BEV)</td>\n",
       "      <td>Eligibility unknown as battery range has not b...</td>\n",
       "      <td>0.0</td>\n",
       "      <td>0.0</td>\n",
       "      <td>48.0</td>\n",
       "      <td>274988388</td>\n",
       "      <td>POINT (-122.13158 47.67858)</td>\n",
       "      <td>PUGET SOUND ENERGY INC||CITY OF TACOMA - (WA)</td>\n",
       "      <td>5.303303e+10</td>\n",
       "    </tr>\n",
       "    <tr>\n",
       "      <th>216770</th>\n",
       "      <td>1G1RB6E49D</td>\n",
       "      <td>Pierce</td>\n",
       "      <td>Gig Harbor</td>\n",
       "      <td>WA</td>\n",
       "      <td>98329.0</td>\n",
       "      <td>2013</td>\n",
       "      <td>CHEVROLET</td>\n",
       "      <td>VOLT</td>\n",
       "      <td>Plug-in Hybrid Electric Vehicle (PHEV)</td>\n",
       "      <td>Clean Alternative Fuel Vehicle Eligible</td>\n",
       "      <td>38.0</td>\n",
       "      <td>0.0</td>\n",
       "      <td>26.0</td>\n",
       "      <td>117353064</td>\n",
       "      <td>POINT (-122.6658 47.38336)</td>\n",
       "      <td>BONNEVILLE POWER ADMINISTRATION||CITY OF TACOM...</td>\n",
       "      <td>5.305307e+10</td>\n",
       "    </tr>\n",
       "    <tr>\n",
       "      <th>216771</th>\n",
       "      <td>5YJ3E1EA1P</td>\n",
       "      <td>Pierce</td>\n",
       "      <td>Bonney Lake</td>\n",
       "      <td>WA</td>\n",
       "      <td>98391.0</td>\n",
       "      <td>2023</td>\n",
       "      <td>TESLA</td>\n",
       "      <td>MODEL 3</td>\n",
       "      <td>Battery Electric Vehicle (BEV)</td>\n",
       "      <td>Eligibility unknown as battery range has not b...</td>\n",
       "      <td>0.0</td>\n",
       "      <td>0.0</td>\n",
       "      <td>31.0</td>\n",
       "      <td>240754006</td>\n",
       "      <td>POINT (-122.17144 47.19175)</td>\n",
       "      <td>PUGET SOUND ENERGY INC||CITY OF TACOMA - (WA)</td>\n",
       "      <td>5.305307e+10</td>\n",
       "    </tr>\n",
       "  </tbody>\n",
       "</table>\n",
       "</div>"
      ],
      "text/plain": [
       "        VIN (1-10)   County            City State  Postal Code  Model Year  \\\n",
       "216767  1G1RB6E44D  Douglas  East Wenatchee    WA      98802.0        2013   \n",
       "216768  KNDCS3LF9R  Whatcom      Bellingham    WA      98229.0        2024   \n",
       "216769  7SAYGAEE9R     King         Redmond    WA      98052.0        2024   \n",
       "216770  1G1RB6E49D   Pierce      Gig Harbor    WA      98329.0        2013   \n",
       "216771  5YJ3E1EA1P   Pierce     Bonney Lake    WA      98391.0        2023   \n",
       "\n",
       "             Make    Model                   Electric Vehicle Type  \\\n",
       "216767  CHEVROLET     VOLT  Plug-in Hybrid Electric Vehicle (PHEV)   \n",
       "216768        KIA     NIRO  Plug-in Hybrid Electric Vehicle (PHEV)   \n",
       "216769      TESLA  MODEL Y          Battery Electric Vehicle (BEV)   \n",
       "216770  CHEVROLET     VOLT  Plug-in Hybrid Electric Vehicle (PHEV)   \n",
       "216771      TESLA  MODEL 3          Battery Electric Vehicle (BEV)   \n",
       "\n",
       "        Clean Alternative Fuel Vehicle (CAFV) Eligibility  Electric Range  \\\n",
       "216767            Clean Alternative Fuel Vehicle Eligible            38.0   \n",
       "216768            Clean Alternative Fuel Vehicle Eligible            33.0   \n",
       "216769  Eligibility unknown as battery range has not b...             0.0   \n",
       "216770            Clean Alternative Fuel Vehicle Eligible            38.0   \n",
       "216771  Eligibility unknown as battery range has not b...             0.0   \n",
       "\n",
       "        Base MSRP  Legislative District  DOL Vehicle ID  \\\n",
       "216767        0.0                  12.0       122822822   \n",
       "216768        0.0                  40.0       267143887   \n",
       "216769        0.0                  48.0       274988388   \n",
       "216770        0.0                  26.0       117353064   \n",
       "216771        0.0                  31.0       240754006   \n",
       "\n",
       "                   Vehicle Location  \\\n",
       "216767  POINT (-120.29473 47.41515)   \n",
       "216768   POINT (-122.45486 48.7449)   \n",
       "216769  POINT (-122.13158 47.67858)   \n",
       "216770   POINT (-122.6658 47.38336)   \n",
       "216771  POINT (-122.17144 47.19175)   \n",
       "\n",
       "                                         Electric Utility  2020 Census Tract  \n",
       "216767                         PUD NO 1 OF DOUGLAS COUNTY       5.301795e+10  \n",
       "216768  PUGET SOUND ENERGY INC||PUD NO 1 OF WHATCOM CO...       5.307300e+10  \n",
       "216769      PUGET SOUND ENERGY INC||CITY OF TACOMA - (WA)       5.303303e+10  \n",
       "216770  BONNEVILLE POWER ADMINISTRATION||CITY OF TACOM...       5.305307e+10  \n",
       "216771      PUGET SOUND ENERGY INC||CITY OF TACOMA - (WA)       5.305307e+10  "
      ]
     },
     "execution_count": 9,
     "metadata": {},
     "output_type": "execute_result"
    }
   ],
   "source": [
    "df = pd.read_csv('ev_data.csv')\n",
    "df.tail()"
   ]
  },
  {
   "cell_type": "code",
   "execution_count": 10,
   "id": "2024f28c-b70e-4aa0-9b89-c8368ee1f79f",
   "metadata": {},
   "outputs": [
    {
     "name": "stdout",
     "output_type": "stream",
     "text": [
      "<class 'pandas.core.frame.DataFrame'>\n",
      "RangeIndex: 216772 entries, 0 to 216771\n",
      "Data columns (total 17 columns):\n",
      " #   Column                                             Non-Null Count   Dtype  \n",
      "---  ------                                             --------------   -----  \n",
      " 0   VIN (1-10)                                         216772 non-null  object \n",
      " 1   County                                             216767 non-null  object \n",
      " 2   City                                               216767 non-null  object \n",
      " 3   State                                              216772 non-null  object \n",
      " 4   Postal Code                                        216767 non-null  float64\n",
      " 5   Model Year                                         216772 non-null  int64  \n",
      " 6   Make                                               216772 non-null  object \n",
      " 7   Model                                              216772 non-null  object \n",
      " 8   Electric Vehicle Type                              216772 non-null  object \n",
      " 9   Clean Alternative Fuel Vehicle (CAFV) Eligibility  216772 non-null  object \n",
      " 10  Electric Range                                     216753 non-null  float64\n",
      " 11  Base MSRP                                          216753 non-null  float64\n",
      " 12  Legislative District                               216321 non-null  float64\n",
      " 13  DOL Vehicle ID                                     216772 non-null  int64  \n",
      " 14  Vehicle Location                                   216761 non-null  object \n",
      " 15  Electric Utility                                   216767 non-null  object \n",
      " 16  2020 Census Tract                                  216767 non-null  float64\n",
      "dtypes: float64(5), int64(2), object(10)\n",
      "memory usage: 28.1+ MB\n"
     ]
    }
   ],
   "source": [
    "df.info()"
   ]
  },
  {
   "cell_type": "code",
   "execution_count": 11,
   "id": "bf89d49e-2e43-4c3f-a3f3-cfa784fc0f14",
   "metadata": {},
   "outputs": [
    {
     "data": {
      "text/html": [
       "<div>\n",
       "<style scoped>\n",
       "    .dataframe tbody tr th:only-of-type {\n",
       "        vertical-align: middle;\n",
       "    }\n",
       "\n",
       "    .dataframe tbody tr th {\n",
       "        vertical-align: top;\n",
       "    }\n",
       "\n",
       "    .dataframe thead th {\n",
       "        text-align: right;\n",
       "    }\n",
       "</style>\n",
       "<table border=\"1\" class=\"dataframe\">\n",
       "  <thead>\n",
       "    <tr style=\"text-align: right;\">\n",
       "      <th></th>\n",
       "      <th>Postal Code</th>\n",
       "      <th>Model Year</th>\n",
       "      <th>Electric Range</th>\n",
       "      <th>Base MSRP</th>\n",
       "      <th>Legislative District</th>\n",
       "      <th>DOL Vehicle ID</th>\n",
       "      <th>2020 Census Tract</th>\n",
       "    </tr>\n",
       "  </thead>\n",
       "  <tbody>\n",
       "    <tr>\n",
       "      <th>count</th>\n",
       "      <td>216767.000000</td>\n",
       "      <td>216772.000000</td>\n",
       "      <td>216753.000000</td>\n",
       "      <td>216753.000000</td>\n",
       "      <td>216321.000000</td>\n",
       "      <td>2.167720e+05</td>\n",
       "      <td>2.167670e+05</td>\n",
       "    </tr>\n",
       "    <tr>\n",
       "      <th>mean</th>\n",
       "      <td>98179.750714</td>\n",
       "      <td>2021.129039</td>\n",
       "      <td>49.428386</td>\n",
       "      <td>870.987045</td>\n",
       "      <td>28.920114</td>\n",
       "      <td>2.304479e+08</td>\n",
       "      <td>5.298157e+10</td>\n",
       "    </tr>\n",
       "    <tr>\n",
       "      <th>std</th>\n",
       "      <td>2458.320323</td>\n",
       "      <td>2.983918</td>\n",
       "      <td>86.224511</td>\n",
       "      <td>7544.671592</td>\n",
       "      <td>14.907934</td>\n",
       "      <td>7.044964e+07</td>\n",
       "      <td>1.514710e+09</td>\n",
       "    </tr>\n",
       "    <tr>\n",
       "      <th>min</th>\n",
       "      <td>1731.000000</td>\n",
       "      <td>1999.000000</td>\n",
       "      <td>0.000000</td>\n",
       "      <td>0.000000</td>\n",
       "      <td>1.000000</td>\n",
       "      <td>4.385000e+03</td>\n",
       "      <td>1.001020e+09</td>\n",
       "    </tr>\n",
       "    <tr>\n",
       "      <th>25%</th>\n",
       "      <td>98052.000000</td>\n",
       "      <td>2020.000000</td>\n",
       "      <td>0.000000</td>\n",
       "      <td>0.000000</td>\n",
       "      <td>17.000000</td>\n",
       "      <td>1.962328e+08</td>\n",
       "      <td>5.303301e+10</td>\n",
       "    </tr>\n",
       "    <tr>\n",
       "      <th>50%</th>\n",
       "      <td>98125.000000</td>\n",
       "      <td>2022.000000</td>\n",
       "      <td>0.000000</td>\n",
       "      <td>0.000000</td>\n",
       "      <td>32.000000</td>\n",
       "      <td>2.440312e+08</td>\n",
       "      <td>5.303303e+10</td>\n",
       "    </tr>\n",
       "    <tr>\n",
       "      <th>75%</th>\n",
       "      <td>98374.000000</td>\n",
       "      <td>2023.000000</td>\n",
       "      <td>42.000000</td>\n",
       "      <td>0.000000</td>\n",
       "      <td>42.000000</td>\n",
       "      <td>2.649070e+08</td>\n",
       "      <td>5.305307e+10</td>\n",
       "    </tr>\n",
       "    <tr>\n",
       "      <th>max</th>\n",
       "      <td>99577.000000</td>\n",
       "      <td>2025.000000</td>\n",
       "      <td>337.000000</td>\n",
       "      <td>845000.000000</td>\n",
       "      <td>49.000000</td>\n",
       "      <td>4.792548e+08</td>\n",
       "      <td>5.602100e+10</td>\n",
       "    </tr>\n",
       "  </tbody>\n",
       "</table>\n",
       "</div>"
      ],
      "text/plain": [
       "         Postal Code     Model Year  Electric Range      Base MSRP  \\\n",
       "count  216767.000000  216772.000000   216753.000000  216753.000000   \n",
       "mean    98179.750714    2021.129039       49.428386     870.987045   \n",
       "std      2458.320323       2.983918       86.224511    7544.671592   \n",
       "min      1731.000000    1999.000000        0.000000       0.000000   \n",
       "25%     98052.000000    2020.000000        0.000000       0.000000   \n",
       "50%     98125.000000    2022.000000        0.000000       0.000000   \n",
       "75%     98374.000000    2023.000000       42.000000       0.000000   \n",
       "max     99577.000000    2025.000000      337.000000  845000.000000   \n",
       "\n",
       "       Legislative District  DOL Vehicle ID  2020 Census Tract  \n",
       "count         216321.000000    2.167720e+05       2.167670e+05  \n",
       "mean              28.920114    2.304479e+08       5.298157e+10  \n",
       "std               14.907934    7.044964e+07       1.514710e+09  \n",
       "min                1.000000    4.385000e+03       1.001020e+09  \n",
       "25%               17.000000    1.962328e+08       5.303301e+10  \n",
       "50%               32.000000    2.440312e+08       5.303303e+10  \n",
       "75%               42.000000    2.649070e+08       5.305307e+10  \n",
       "max               49.000000    4.792548e+08       5.602100e+10  "
      ]
     },
     "execution_count": 11,
     "metadata": {},
     "output_type": "execute_result"
    }
   ],
   "source": [
    "df.describe()"
   ]
  },
  {
   "cell_type": "code",
   "execution_count": 12,
   "id": "712ad9c9-5480-44a5-bc5d-1b4124a3da28",
   "metadata": {},
   "outputs": [
    {
     "data": {
      "text/plain": [
       "VIN (1-10)                                            12624\n",
       "County                                                  205\n",
       "City                                                    762\n",
       "State                                                    47\n",
       "Postal Code                                             934\n",
       "Model Year                                               21\n",
       "Make                                                     44\n",
       "Model                                                   155\n",
       "Electric Vehicle Type                                     2\n",
       "Clean Alternative Fuel Vehicle (CAFV) Eligibility         3\n",
       "Electric Range                                          106\n",
       "Base MSRP                                                31\n",
       "Legislative District                                     49\n",
       "DOL Vehicle ID                                       216772\n",
       "Vehicle Location                                        932\n",
       "Electric Utility                                         75\n",
       "2020 Census Tract                                      2169\n",
       "dtype: int64"
      ]
     },
     "execution_count": 12,
     "metadata": {},
     "output_type": "execute_result"
    }
   ],
   "source": [
    "df.nunique()"
   ]
  },
  {
   "cell_type": "code",
   "execution_count": 13,
   "id": "7838cb33-188b-4dbe-8ddf-f1d24f467be9",
   "metadata": {},
   "outputs": [
    {
     "data": {
      "text/plain": [
       "array([ 75., 270.,   0.,  25.,  19., 266., 249.,  21.,  17.,  73., 322.,\n",
       "       239.,  33., 238., 125., 215.,  32.,  84.,  81.,  39.,  47.,  38.,\n",
       "       291.,  16., 114.,  53., 107., 220.,  14.,  35.,  87., 200., 293.,\n",
       "        93.,  42., 103., 151.,  26.,  40.,  23.,  34.,  20., 208.,  30.,\n",
       "       210., 204., 126., 233., 153., 150., 289., 222.,  18., 149., 258.,\n",
       "        22.,  27., 265., 110.,  29., 259.,  41.,  97.,  83.,  10., 308.,\n",
       "        72., 330.,  15.,  82.,   6.,  13.,  76.,  58., 337.,  28.,  37.,\n",
       "       218.,  48., 245., 234., 203.,  12.,  31., 170.,  36., 124.,  56.,\n",
       "        62.,  46., 192.,  68., 100.,  24.,  59., 111.,  60.,   8.,  nan,\n",
       "        51.,   9.,  55.,  11.,  43.,  95.,  57.,  74.])"
      ]
     },
     "execution_count": 13,
     "metadata": {},
     "output_type": "execute_result"
    }
   ],
   "source": [
    "df['Electric Range'].unique()"
   ]
  },
  {
   "cell_type": "code",
   "execution_count": 14,
   "id": "eeca35ce-4539-481e-9ddc-c4fcb2bc42be",
   "metadata": {},
   "outputs": [],
   "source": [
    "# df[df['Electric Range'] > df['Electric Range'].mean()]\n",
    "df_dropped = df[df['Electric Range'] != 0].dropna()"
   ]
  },
  {
   "cell_type": "code",
   "execution_count": 44,
   "id": "1068b5b0-90ba-4027-8155-cfc07bd21c2d",
   "metadata": {},
   "outputs": [
    {
     "data": {
      "text/plain": [
       "array(['TESLA', 'KIA', 'VOLKSWAGEN', 'CHEVROLET', 'NISSAN', 'AUDI', 'BMW',\n",
       "       'POLESTAR', 'HYUNDAI', 'JAGUAR', 'PORSCHE'], dtype=object)"
      ]
     },
     "execution_count": 44,
     "metadata": {},
     "output_type": "execute_result"
    }
   ],
   "source": [
    "df_dropped[df_dropped['Electric Range'] > df_dropped['Electric Range'].mean()]['Make'].unique()"
   ]
  },
  {
   "cell_type": "code",
   "execution_count": 16,
   "id": "f5b62cb4-d2dd-4fbf-a95f-47fe96b8ab82",
   "metadata": {},
   "outputs": [
    {
     "name": "stdout",
     "output_type": "stream",
     "text": [
      "<class 'pandas.core.frame.DataFrame'>\n",
      "Index: 216296 entries, 0 to 216771\n",
      "Data columns (total 17 columns):\n",
      " #   Column                                             Non-Null Count   Dtype  \n",
      "---  ------                                             --------------   -----  \n",
      " 0   VIN (1-10)                                         216296 non-null  object \n",
      " 1   County                                             216296 non-null  object \n",
      " 2   City                                               216296 non-null  object \n",
      " 3   State                                              216296 non-null  object \n",
      " 4   Postal Code                                        216296 non-null  float64\n",
      " 5   Model Year                                         216296 non-null  int64  \n",
      " 6   Make                                               216296 non-null  object \n",
      " 7   Model                                              216296 non-null  object \n",
      " 8   Electric Vehicle Type                              216296 non-null  object \n",
      " 9   Clean Alternative Fuel Vehicle (CAFV) Eligibility  216296 non-null  object \n",
      " 10  Electric Range                                     216296 non-null  float64\n",
      " 11  Base MSRP                                          216296 non-null  float64\n",
      " 12  Legislative District                               216296 non-null  float64\n",
      " 13  DOL Vehicle ID                                     216296 non-null  int64  \n",
      " 14  Vehicle Location                                   216296 non-null  object \n",
      " 15  Electric Utility                                   216296 non-null  object \n",
      " 16  2020 Census Tract                                  216296 non-null  float64\n",
      "dtypes: float64(5), int64(2), object(10)\n",
      "memory usage: 29.7+ MB\n"
     ]
    }
   ],
   "source": [
    "df.dropna().info()"
   ]
  },
  {
   "cell_type": "code",
   "execution_count": 48,
   "id": "df088fcf-a455-4fca-b183-732e26b1d22f",
   "metadata": {},
   "outputs": [
    {
     "data": {
      "text/plain": [
       "array(['NISSAN', 'TESLA', 'VOLKSWAGEN', 'TOYOTA', 'FORD', 'JEEP', 'BMW',\n",
       "       'KIA', 'CHRYSLER', 'HONDA', 'CHEVROLET', 'AUDI', 'FIAT', 'MAZDA',\n",
       "       'PORSCHE', 'POLESTAR', 'VOLVO', 'LUCID', 'HYUNDAI', 'RIVIAN',\n",
       "       'SUBARU', 'MINI', 'LEXUS', 'MERCEDES-BENZ', 'MITSUBISHI', 'ACURA',\n",
       "       'CADILLAC', 'ROLLS-ROYCE', 'SMART', 'ALFA ROMEO', 'LINCOLN',\n",
       "       'GENESIS', 'GMC', 'JAGUAR', 'LAND ROVER', 'FISKER', 'DODGE',\n",
       "       'TH!NK', 'BENTLEY', 'AZURE DYNAMICS', 'WHEEGO ELECTRIC CARS',\n",
       "       'VINFAST', 'RAM', 'LAMBORGHINI'], dtype=object)"
      ]
     },
     "execution_count": 48,
     "metadata": {},
     "output_type": "execute_result"
    }
   ],
   "source": [
    "df['Make'].unique()"
   ]
  },
  {
   "cell_type": "code",
   "execution_count": 56,
   "id": "8a6dbe57-176c-4693-b563-a34b6e25a11d",
   "metadata": {},
   "outputs": [],
   "source": [
    "make_means = {}\n",
    "\n",
    "for make in df_dropped['Make'].unique():\n",
    "    make_means[make] = df_dropped[df_dropped['Make'] == make]['Electric Range'].mean()"
   ]
  },
  {
   "cell_type": "code",
   "execution_count": 58,
   "id": "a2fea099-3a6e-4540-9ccc-d7d6169339e5",
   "metadata": {},
   "outputs": [
    {
     "data": {
      "text/plain": [
       "{'NISSAN': 105.16968130921619,\n",
       " 'TESLA': 241.00265620044402,\n",
       " 'TOYOTA': 31.5751677852349,\n",
       " 'FORD': 25.54381049414162,\n",
       " 'JEEP': 22.318497418550827,\n",
       " 'BMW': 46.18477716574862,\n",
       " 'KIA': 82.27908571428571,\n",
       " 'VOLKSWAGEN': 107.30555555555556,\n",
       " 'CHRYSLER': 32.168875927889715,\n",
       " 'HONDA': 46.53917050691244,\n",
       " 'CHEVROLET': 142.62094455852156,\n",
       " 'AUDI': 75.46911037891269,\n",
       " 'FIAT': 85.60411311053984,\n",
       " 'MAZDA': 26.0,\n",
       " 'PORSCHE': 71.50322580645161,\n",
       " 'POLESTAR': 233.0,\n",
       " 'VOLVO': 25.969287123133277,\n",
       " 'HYUNDAI': 84.14028213166144,\n",
       " 'MINI': 47.1301775147929,\n",
       " 'MERCEDES-BENZ': 34.94390715667311,\n",
       " 'MITSUBISHI': 31.202107279693486,\n",
       " 'SMART': 61.94238683127572,\n",
       " 'CADILLAC': 36.59574468085106,\n",
       " 'ALFA ROMEO': 33.0,\n",
       " 'LINCOLN': 23.865625,\n",
       " 'LEXUS': 36.90045248868778,\n",
       " 'SUBARU': 17.0,\n",
       " 'JAGUAR': 234.0,\n",
       " 'LAND ROVER': 37.46067415730337,\n",
       " 'DODGE': 32.0,\n",
       " 'TH!NK': 100.0,\n",
       " 'FISKER': 33.0,\n",
       " 'BENTLEY': 22.0,\n",
       " 'AZURE DYNAMICS': 56.0,\n",
       " 'WHEEGO ELECTRIC CARS': 100.0}"
      ]
     },
     "execution_count": 58,
     "metadata": {},
     "output_type": "execute_result"
    }
   ],
   "source": [
    "make_means"
   ]
  },
  {
   "cell_type": "code",
   "execution_count": 60,
   "id": "9d0fb5ad-8c34-4281-9081-9cf8afaf6ddd",
   "metadata": {},
   "outputs": [
    {
     "data": {
      "text/plain": [
       "<BarContainer object of 35 artists>"
      ]
     },
     "execution_count": 60,
     "metadata": {},
     "output_type": "execute_result"
    },
    {
     "data": {
      "image/png": "[encoded data removed]",
      "text/plain": [
       "<Figure size 640x480 with 1 Axes>"
      ]
     },
     "metadata": {},
     "output_type": "display_data"
    }
   ],
   "source": [
    "import matplotlib.pyplot as plt\n",
    "\n",
    "plt.bar(make_means.keys(), make_means.values())"
   ]
  },
  {
   "cell_type": "code",
   "execution_count": null,
   "id": "f4fbd514-5ae8-4558-a24e-b8c5e83de470",
   "metadata": {},
   "outputs": [],
   "source": []
  }
 ],
 "metadata": {
  "kernelspec": {
   "display_name": "Python 3 (ipykernel)",
   "language": "python",
   "name": "python3"
  },
  "language_info": {
   "codemirror_mode": {
    "name": "ipython",
    "version": 3
   },
   "file_extension": ".py",
   "mimetype": "text/x-python",
   "name": "python",
   "nbconvert_exporter": "python",
   "pygments_lexer": "ipython3",
   "version": "3.12.2"
  }
 },
 "nbformat": 4,
 "nbformat_minor": 5
}
